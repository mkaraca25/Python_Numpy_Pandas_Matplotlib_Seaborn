{
  "nbformat": 4,
  "nbformat_minor": 0,
  "metadata": {
    "kernelspec": {
      "display_name": "Python 3",
      "language": "python",
      "name": "python3"
    },
    "language_info": {
      "codemirror_mode": {
        "name": "ipython",
        "version": 3
      },
      "file_extension": ".py",
      "mimetype": "text/x-python",
      "name": "python",
      "nbconvert_exporter": "python",
      "pygments_lexer": "ipython3",
      "version": "3.7.4"
    },
    "colab": {
      "name": "Numpy.ipynb",
      "provenance": [],
      "collapsed_sections": [],
      "include_colab_link": true
    }
  },
  "cells": [
    {
      "cell_type": "markdown",
      "metadata": {
        "id": "view-in-github",
        "colab_type": "text"
      },
      "source": [
        "<a href=\"https://colab.research.google.com/github/mkaraca25/Python_Numpy_Pandas_Matplotlib_Seaborn/blob/main/Numpy.ipynb\" target=\"_parent\"><img src=\"https://colab.research.google.com/assets/colab-badge.svg\" alt=\"Open In Colab\"/></a>"
      ]
    },
    {
      "cell_type": "markdown",
      "metadata": {
        "id": "lRD8TnZRekJM"
      },
      "source": [
        "## NUMPY"
      ]
    },
    {
      "cell_type": "code",
      "metadata": {
        "colab": {
          "base_uri": "https://localhost:8080/"
        },
        "id": "RRVVMbSDekJU",
        "outputId": "5fe931e5-0681-489a-ffc9-5c4a46802a56"
      },
      "source": [
        "##Neden NUMPY bilimsel hesaplamalarda kullanilir.\n",
        "import numpy as np\n",
        "import time\n",
        "start_time=time.time() \n",
        "A=np.arange(1000000)\n",
        "A**2\n",
        "Time_1=time.time()-start_time\n",
        "start_time_2=time.time()\n",
        "L=range(1000000)\n",
        "[i**2 for i in L]\n",
        "Time_2=time.time()-start_time_2\n",
        "print(Time_2/Time_1)\n",
        "##numpy yaklaşık 60 kat daha hizlidir."
      ],
      "execution_count": 3,
      "outputs": [
        {
          "output_type": "stream",
          "text": [
            "22.62003892696962\n"
          ],
          "name": "stdout"
        }
      ]
    },
    {
      "cell_type": "code",
      "metadata": {
        "colab": {
          "base_uri": "https://localhost:8080/"
        },
        "id": "ZRKSOUrmekJZ",
        "outputId": "99377d8d-143a-4ed7-ac48-e60f0db4eea7"
      },
      "source": [
        "x=np.array([4,5,6,7])\n",
        "print(x)\n",
        "print(type(x))\n",
        "print(x.shape)\n",
        "print(x.size)\n",
        "print(x.ndim)\n",
        "print(x.nbytes)\n",
        "print(x.dtype)"
      ],
      "execution_count": 4,
      "outputs": [
        {
          "output_type": "stream",
          "text": [
            "[4 5 6 7]\n",
            "<class 'numpy.ndarray'>\n",
            "(4,)\n",
            "4\n",
            "1\n",
            "32\n",
            "int64\n"
          ],
          "name": "stdout"
        }
      ]
    },
    {
      "cell_type": "code",
      "metadata": {
        "colab": {
          "base_uri": "https://localhost:8080/"
        },
        "id": "pHGRcZedekJc",
        "outputId": "a5b5fd2d-f505-4d33-e6e7-5ca824159315"
      },
      "source": [
        "y=np.array([[1,2,3],[4,5,6]])\n",
        "print(y)\n",
        "print(type(y))\n",
        "print(y.shape)#tuple\n",
        "print(y.size)\n",
        "print(y.ndim)\n",
        "print(y.nbytes)\n",
        "print(y.dtype)"
      ],
      "execution_count": 5,
      "outputs": [
        {
          "output_type": "stream",
          "text": [
            "[[1 2 3]\n",
            " [4 5 6]]\n",
            "<class 'numpy.ndarray'>\n",
            "(2, 3)\n",
            "6\n",
            "2\n",
            "48\n",
            "int64\n"
          ],
          "name": "stdout"
        }
      ]
    },
    {
      "cell_type": "code",
      "metadata": {
        "colab": {
          "base_uri": "https://localhost:8080/"
        },
        "id": "nthbT4LJekJe",
        "outputId": "127ec31a-8eca-436b-8237-a0fac569eb3e"
      },
      "source": [
        "z=np.array([[[1,2,3],[4,5,6]],[[7,8,9],[9,8,7]]])\n",
        "print(z)\n",
        "print(type(z))\n",
        "print(z.shape)\n",
        "print(z.size)\n",
        "print(z.ndim)\n",
        "print(z.nbytes)\n",
        "print(z.dtype)"
      ],
      "execution_count": 6,
      "outputs": [
        {
          "output_type": "stream",
          "text": [
            "[[[1 2 3]\n",
            "  [4 5 6]]\n",
            "\n",
            " [[7 8 9]\n",
            "  [9 8 7]]]\n",
            "<class 'numpy.ndarray'>\n",
            "(2, 2, 3)\n",
            "12\n",
            "3\n",
            "96\n",
            "int64\n"
          ],
          "name": "stdout"
        }
      ]
    },
    {
      "cell_type": "code",
      "metadata": {
        "colab": {
          "base_uri": "https://localhost:8080/"
        },
        "id": "X8y6xn9uekJf",
        "outputId": "eb34712d-8044-4845-c7ed-3555de9e0b2d"
      },
      "source": [
        "m=np.array([1,2.0,3])\n",
        "print(m.dtype)"
      ],
      "execution_count": 7,
      "outputs": [
        {
          "output_type": "stream",
          "text": [
            "float64\n"
          ],
          "name": "stdout"
        }
      ]
    },
    {
      "cell_type": "code",
      "metadata": {
        "colab": {
          "base_uri": "https://localhost:8080/"
        },
        "id": "PVCU9piLekJh",
        "outputId": "ab5c40f6-2a25-4ea1-f818-95c028bdd13d"
      },
      "source": [
        "k=np.array([1,2,\"3\"])\n",
        "print(k.dtype)"
      ],
      "execution_count": 8,
      "outputs": [
        {
          "output_type": "stream",
          "text": [
            "<U21\n"
          ],
          "name": "stdout"
        }
      ]
    },
    {
      "cell_type": "code",
      "metadata": {
        "colab": {
          "base_uri": "https://localhost:8080/"
        },
        "id": "I5m8pGJRekJl",
        "outputId": "4a47b39e-aaca-43b7-e326-7cbca1591306"
      },
      "source": [
        "array=np.array([1,2,3],dtype=np.complex)\n",
        "print(array)\n",
        "print(array.dtype)"
      ],
      "execution_count": 9,
      "outputs": [
        {
          "output_type": "stream",
          "text": [
            "[1.+0.j 2.+0.j 3.+0.j]\n",
            "complex128\n"
          ],
          "name": "stdout"
        }
      ]
    },
    {
      "cell_type": "code",
      "metadata": {
        "colab": {
          "base_uri": "https://localhost:8080/"
        },
        "id": "GCo9rsTRekJp",
        "outputId": "c1592863-9a47-4c4b-d742-508a0b4b223f"
      },
      "source": [
        "x=np.array([1,2,3,4],dtype=np.float)\n",
        "y=np.array(x,dtype=complex)\n",
        "print(x,\"==>\",y)"
      ],
      "execution_count": 10,
      "outputs": [
        {
          "output_type": "stream",
          "text": [
            "[1. 2. 3. 4.] ==> [1.+0.j 2.+0.j 3.+0.j 4.+0.j]\n"
          ],
          "name": "stdout"
        }
      ]
    },
    {
      "cell_type": "code",
      "metadata": {
        "colab": {
          "base_uri": "https://localhost:8080/"
        },
        "id": "VfgnQKIoekJu",
        "outputId": "cc11ddde-a7ce-4435-a081-d7c254a0b101"
      },
      "source": [
        "x1=np.array([1,2,3],dtype=np.int)\n",
        "x2=np.array([1.5,2.7,3.4],dtype=np.float)\n",
        "print(x1+x2)"
      ],
      "execution_count": 11,
      "outputs": [
        {
          "output_type": "stream",
          "text": [
            "[2.5 4.7 6.4]\n"
          ],
          "name": "stdout"
        }
      ]
    },
    {
      "cell_type": "code",
      "metadata": {
        "id": "PAcc6abAekJx"
      },
      "source": [
        "x=np.array([[5,6,9,3.2,15],[1,2,3,4,5]])\n",
        "np.save(\"ndarray_1\",x)#kaydetme"
      ],
      "execution_count": 12,
      "outputs": []
    },
    {
      "cell_type": "code",
      "metadata": {
        "colab": {
          "base_uri": "https://localhost:8080/"
        },
        "id": "DjXCx9SwekJy",
        "outputId": "870cd449-b6f8-433c-b644-7e4acf2215b2"
      },
      "source": [
        "y=np.load(\"ndarray_1.npy\")#kaydedileni kullanma\n",
        "print(y,np.dtype,y.shape)"
      ],
      "execution_count": 13,
      "outputs": [
        {
          "output_type": "stream",
          "text": [
            "[[ 5.   6.   9.   3.2 15. ]\n",
            " [ 1.   2.   3.   4.   5. ]] <class 'numpy.dtype'> (2, 5)\n"
          ],
          "name": "stdout"
        }
      ]
    },
    {
      "cell_type": "code",
      "metadata": {
        "colab": {
          "base_uri": "https://localhost:8080/"
        },
        "id": "OQUwm66cekJz",
        "outputId": "f57860a9-15bf-4908-f4eb-cf9ba2f58ae4"
      },
      "source": [
        "x=np.zeros((2,3,4),dtype=np.int)\n",
        "print(x)"
      ],
      "execution_count": 14,
      "outputs": [
        {
          "output_type": "stream",
          "text": [
            "[[[0 0 0 0]\n",
            "  [0 0 0 0]\n",
            "  [0 0 0 0]]\n",
            "\n",
            " [[0 0 0 0]\n",
            "  [0 0 0 0]\n",
            "  [0 0 0 0]]]\n"
          ],
          "name": "stdout"
        }
      ]
    },
    {
      "cell_type": "code",
      "metadata": {
        "colab": {
          "base_uri": "https://localhost:8080/"
        },
        "id": "6Tn5BRzfekJ0",
        "outputId": "33e2c7b0-89be-4898-d6fb-43af00d4efdd"
      },
      "source": [
        "x=np.ones((2,3,4),dtype=np.int)\n",
        "print(x)"
      ],
      "execution_count": 15,
      "outputs": [
        {
          "output_type": "stream",
          "text": [
            "[[[1 1 1 1]\n",
            "  [1 1 1 1]\n",
            "  [1 1 1 1]]\n",
            "\n",
            " [[1 1 1 1]\n",
            "  [1 1 1 1]\n",
            "  [1 1 1 1]]]\n"
          ],
          "name": "stdout"
        }
      ]
    },
    {
      "cell_type": "code",
      "metadata": {
        "colab": {
          "base_uri": "https://localhost:8080/"
        },
        "id": "al0YhATqekJ1",
        "outputId": "5d31f773-7b75-43e4-c0e9-5a5557fe72ce"
      },
      "source": [
        "#np.full \n",
        "x=np.full((2,3),5)\n",
        "print(x)\n",
        "y=10.0*x\n",
        "print(y)"
      ],
      "execution_count": 16,
      "outputs": [
        {
          "output_type": "stream",
          "text": [
            "[[5 5 5]\n",
            " [5 5 5]]\n",
            "[[50. 50. 50.]\n",
            " [50. 50. 50.]]\n"
          ],
          "name": "stdout"
        }
      ]
    },
    {
      "cell_type": "code",
      "metadata": {
        "colab": {
          "base_uri": "https://localhost:8080/"
        },
        "id": "MEQUin-UekJ2",
        "outputId": "f1b9c8a5-dc0f-4eb2-8da2-1a6709ce4d2a"
      },
      "source": [
        "#np.empty() np.fill()\n",
        "x=np.empty((2,2))\n",
        "print(x)\n",
        "x.fill(4)\n",
        "print(x)"
      ],
      "execution_count": 17,
      "outputs": [
        {
          "output_type": "stream",
          "text": [
            "[[1. 2.]\n",
            " [3. 4.]]\n",
            "[[4. 4.]\n",
            " [4. 4.]]\n"
          ],
          "name": "stdout"
        }
      ]
    },
    {
      "cell_type": "code",
      "metadata": {
        "colab": {
          "base_uri": "https://localhost:8080/"
        },
        "id": "LPS1LcBPekJ3",
        "outputId": "7477f055-9a4e-49c3-992e-de9ee5dcbc0a"
      },
      "source": [
        "x=np.eye(5,4)#birim\n",
        "print(x)"
      ],
      "execution_count": 18,
      "outputs": [
        {
          "output_type": "stream",
          "text": [
            "[[1. 0. 0. 0.]\n",
            " [0. 1. 0. 0.]\n",
            " [0. 0. 1. 0.]\n",
            " [0. 0. 0. 1.]\n",
            " [0. 0. 0. 0.]]\n"
          ],
          "name": "stdout"
        }
      ]
    },
    {
      "cell_type": "code",
      "metadata": {
        "colab": {
          "base_uri": "https://localhost:8080/"
        },
        "id": "UtxofWuuekJ3",
        "outputId": "62032b78-18b8-4bcb-b2dc-5f7b5210eb8e"
      },
      "source": [
        "x=np.eye(5,4,k=1)#birim\n",
        "print(x)"
      ],
      "execution_count": 19,
      "outputs": [
        {
          "output_type": "stream",
          "text": [
            "[[0. 1. 0. 0.]\n",
            " [0. 0. 1. 0.]\n",
            " [0. 0. 0. 1.]\n",
            " [0. 0. 0. 0.]\n",
            " [0. 0. 0. 0.]]\n"
          ],
          "name": "stdout"
        }
      ]
    },
    {
      "cell_type": "code",
      "metadata": {
        "colab": {
          "base_uri": "https://localhost:8080/"
        },
        "id": "DSmF5a2dekJ4",
        "outputId": "83e231fa-8f82-488f-c186-f10c3dfc6ea2"
      },
      "source": [
        "x=np.diag([5,3,2,1])#birim\n",
        "print(x)\n",
        "print(np.diag(x))"
      ],
      "execution_count": 20,
      "outputs": [
        {
          "output_type": "stream",
          "text": [
            "[[5 0 0 0]\n",
            " [0 3 0 0]\n",
            " [0 0 2 0]\n",
            " [0 0 0 1]]\n",
            "[5 3 2 1]\n"
          ],
          "name": "stdout"
        }
      ]
    },
    {
      "cell_type": "code",
      "metadata": {
        "colab": {
          "base_uri": "https://localhost:8080/"
        },
        "id": "-5TdgpE3ekJ5",
        "outputId": "e08469da-fbdd-4fa2-e34b-5004b77bffde"
      },
      "source": [
        "x=np.arange(1,10,2)\n",
        "print(x)"
      ],
      "execution_count": 21,
      "outputs": [
        {
          "output_type": "stream",
          "text": [
            "[1 3 5 7 9]\n"
          ],
          "name": "stdout"
        }
      ]
    },
    {
      "cell_type": "code",
      "metadata": {
        "colab": {
          "base_uri": "https://localhost:8080/"
        },
        "id": "Gz08TZl1ekJ6",
        "outputId": "c67281fe-d32a-44ce-e564-3fdda6867467"
      },
      "source": [
        "#np.linspace\n",
        "x=np.linspace(0,15,10)\n",
        "print(x)"
      ],
      "execution_count": 22,
      "outputs": [
        {
          "output_type": "stream",
          "text": [
            "[ 0.          1.66666667  3.33333333  5.          6.66666667  8.33333333\n",
            " 10.         11.66666667 13.33333333 15.        ]\n"
          ],
          "name": "stdout"
        }
      ]
    },
    {
      "cell_type": "code",
      "metadata": {
        "colab": {
          "base_uri": "https://localhost:8080/"
        },
        "id": "syQpxOW0ekJ7",
        "outputId": "c7647ce0-f3ee-4e5d-e367-32e7a53a3746"
      },
      "source": [
        "x=np.arange(32)\n",
        "y=np.reshape(x,(2,4,4))\n",
        "print(y)"
      ],
      "execution_count": 23,
      "outputs": [
        {
          "output_type": "stream",
          "text": [
            "[[[ 0  1  2  3]\n",
            "  [ 4  5  6  7]\n",
            "  [ 8  9 10 11]\n",
            "  [12 13 14 15]]\n",
            "\n",
            " [[16 17 18 19]\n",
            "  [20 21 22 23]\n",
            "  [24 25 26 27]\n",
            "  [28 29 30 31]]]\n"
          ],
          "name": "stdout"
        }
      ]
    },
    {
      "cell_type": "code",
      "metadata": {
        "colab": {
          "base_uri": "https://localhost:8080/"
        },
        "id": "yIPXOuVqekJ7",
        "outputId": "4558cf56-dc4b-4d64-d47c-b55980c13bff"
      },
      "source": [
        "x=np.linspace(0,19,20)\n",
        "print(x)\n",
        "y=np.reshape(x,(2,10))\n",
        "print(y)"
      ],
      "execution_count": 24,
      "outputs": [
        {
          "output_type": "stream",
          "text": [
            "[ 0.  1.  2.  3.  4.  5.  6.  7.  8.  9. 10. 11. 12. 13. 14. 15. 16. 17.\n",
            " 18. 19.]\n",
            "[[ 0.  1.  2.  3.  4.  5.  6.  7.  8.  9.]\n",
            " [10. 11. 12. 13. 14. 15. 16. 17. 18. 19.]]\n"
          ],
          "name": "stdout"
        }
      ]
    },
    {
      "cell_type": "code",
      "metadata": {
        "colab": {
          "base_uri": "https://localhost:8080/"
        },
        "id": "eIou19cHekJ8",
        "outputId": "ed3c4a81-f678-4417-bea0-25f0d8c1bf2f"
      },
      "source": [
        "z=np.linspace(0,19,20).reshape(2,10)\n",
        "print(z)"
      ],
      "execution_count": 25,
      "outputs": [
        {
          "output_type": "stream",
          "text": [
            "[[ 0.  1.  2.  3.  4.  5.  6.  7.  8.  9.]\n",
            " [10. 11. 12. 13. 14. 15. 16. 17. 18. 19.]]\n"
          ],
          "name": "stdout"
        }
      ]
    },
    {
      "cell_type": "code",
      "metadata": {
        "colab": {
          "base_uri": "https://localhost:8080/"
        },
        "id": "EE1ux0WpekJ9",
        "outputId": "32e1166e-4dad-4f2e-e07b-b8f5563a72a6"
      },
      "source": [
        "x=np.random.random((2,3))\n",
        "print(x)"
      ],
      "execution_count": 26,
      "outputs": [
        {
          "output_type": "stream",
          "text": [
            "[[0.15584273 0.58295798 0.92620815]\n",
            " [0.37788417 0.53696022 0.46498088]]\n"
          ],
          "name": "stdout"
        }
      ]
    },
    {
      "cell_type": "code",
      "metadata": {
        "colab": {
          "base_uri": "https://localhost:8080/"
        },
        "id": "T-fZg6mQekJ9",
        "outputId": "5a53eda7-6935-4fc8-c0a1-6b16d8108201"
      },
      "source": [
        "x=np.random.randint(0,10,size=(2,3))\n",
        "print(x)"
      ],
      "execution_count": 27,
      "outputs": [
        {
          "output_type": "stream",
          "text": [
            "[[3 9 2]\n",
            " [2 0 9]]\n"
          ],
          "name": "stdout"
        }
      ]
    },
    {
      "cell_type": "markdown",
      "metadata": {
        "id": "slCNcZvCekJ-"
      },
      "source": [
        "## NDArray degistirme ,Insert,Append, Stack and Delete"
      ]
    },
    {
      "cell_type": "code",
      "metadata": {
        "colab": {
          "base_uri": "https://localhost:8080/"
        },
        "id": "otmm47C8ekJ_",
        "outputId": "5fbe57cf-a04c-4aea-dbd3-5dee4691ed87"
      },
      "source": [
        "x=np.arange(0,11,2)\n",
        "print(x[3])\n",
        "x=np.arange(0,11,2)\n",
        "print(x[-1])"
      ],
      "execution_count": 28,
      "outputs": [
        {
          "output_type": "stream",
          "text": [
            "6\n",
            "10\n"
          ],
          "name": "stdout"
        }
      ]
    },
    {
      "cell_type": "code",
      "metadata": {
        "colab": {
          "base_uri": "https://localhost:8080/"
        },
        "id": "9vvgrxp9ekJ_",
        "outputId": "917d8252-54c5-45a3-bac4-3738ec85a884"
      },
      "source": [
        "x=np.arange(12).reshape(3,4)\n",
        "print(x)\n",
        "print(x[2,3])"
      ],
      "execution_count": 29,
      "outputs": [
        {
          "output_type": "stream",
          "text": [
            "[[ 0  1  2  3]\n",
            " [ 4  5  6  7]\n",
            " [ 8  9 10 11]]\n",
            "11\n"
          ],
          "name": "stdout"
        }
      ]
    },
    {
      "cell_type": "code",
      "metadata": {
        "colab": {
          "base_uri": "https://localhost:8080/"
        },
        "id": "9c29QrMZekKA",
        "outputId": "95e217e5-72c1-454e-8864-b16380ff2213"
      },
      "source": [
        "x=np.arange(10)\n",
        "print(x)\n",
        "x=np.delete(x,[0,1])\n",
        "print(x)"
      ],
      "execution_count": 30,
      "outputs": [
        {
          "output_type": "stream",
          "text": [
            "[0 1 2 3 4 5 6 7 8 9]\n",
            "[2 3 4 5 6 7 8 9]\n"
          ],
          "name": "stdout"
        }
      ]
    },
    {
      "cell_type": "code",
      "metadata": {
        "colab": {
          "base_uri": "https://localhost:8080/"
        },
        "id": "vKID61ndekKA",
        "outputId": "0b0260ca-7b9d-4de8-d242-41b0162d763f"
      },
      "source": [
        "x=np.arange(16).reshape(4,4)\n",
        "print(x)\n",
        "x=np.delete(x, 2,axis=0)\n",
        "print(x)\n",
        "x=np.delete(x, 2,axis=1)\n",
        "print(x)\n",
        "x=np.delete(x, [0,2],axis=1)\n",
        "print(x)"
      ],
      "execution_count": 31,
      "outputs": [
        {
          "output_type": "stream",
          "text": [
            "[[ 0  1  2  3]\n",
            " [ 4  5  6  7]\n",
            " [ 8  9 10 11]\n",
            " [12 13 14 15]]\n",
            "[[ 0  1  2  3]\n",
            " [ 4  5  6  7]\n",
            " [12 13 14 15]]\n",
            "[[ 0  1  3]\n",
            " [ 4  5  7]\n",
            " [12 13 15]]\n",
            "[[ 1]\n",
            " [ 5]\n",
            " [13]]\n"
          ],
          "name": "stdout"
        }
      ]
    },
    {
      "cell_type": "code",
      "metadata": {
        "colab": {
          "base_uri": "https://localhost:8080/"
        },
        "id": "ovP3osOsekKA",
        "outputId": "3389db2b-67db-43fb-b0f8-da9da3f553ca"
      },
      "source": [
        "x=np.arange(16).reshape(4,4)\n",
        "print(x)\n",
        "x=np.append(x,[[1,2,3,4]],axis=0)#satıra ekleme\n",
        "print(x)\n",
        "x=np.append(x,[[1],[2],[3],[4],[5]],axis=1)#sutuna ekleme\n",
        "print(x)"
      ],
      "execution_count": 32,
      "outputs": [
        {
          "output_type": "stream",
          "text": [
            "[[ 0  1  2  3]\n",
            " [ 4  5  6  7]\n",
            " [ 8  9 10 11]\n",
            " [12 13 14 15]]\n",
            "[[ 0  1  2  3]\n",
            " [ 4  5  6  7]\n",
            " [ 8  9 10 11]\n",
            " [12 13 14 15]\n",
            " [ 1  2  3  4]]\n",
            "[[ 0  1  2  3  1]\n",
            " [ 4  5  6  7  2]\n",
            " [ 8  9 10 11  3]\n",
            " [12 13 14 15  4]\n",
            " [ 1  2  3  4  5]]\n"
          ],
          "name": "stdout"
        }
      ]
    },
    {
      "cell_type": "code",
      "metadata": {
        "colab": {
          "base_uri": "https://localhost:8080/"
        },
        "id": "u2s359VUekKB",
        "outputId": "4631dd61-f6c0-4a01-fe74-1d13a4ad4d13"
      },
      "source": [
        "#np.insert\n",
        "array=np.arange(10)\n",
        "print(array)\n",
        "array=np.insert(array,5,12)\n",
        "print(array)\n",
        "array=np.insert(array,6,[13,14,15])\n",
        "print(array)"
      ],
      "execution_count": 33,
      "outputs": [
        {
          "output_type": "stream",
          "text": [
            "[0 1 2 3 4 5 6 7 8 9]\n",
            "[ 0  1  2  3  4 12  5  6  7  8  9]\n",
            "[ 0  1  2  3  4 12 13 14 15  5  6  7  8  9]\n"
          ],
          "name": "stdout"
        }
      ]
    },
    {
      "cell_type": "code",
      "metadata": {
        "colab": {
          "base_uri": "https://localhost:8080/"
        },
        "id": "fL6nyO5aekKB",
        "outputId": "0d083436-1cbb-4a8e-d436-c2142bbb99a8"
      },
      "source": [
        "array=np.arange(9).reshape(3,3)\n",
        "print(array)\n",
        "array=np.insert(array,1,[5,12,11],axis=0)\n",
        "print(array)\n",
        "array=np.insert(array,2,[1,2,3,4],axis=1)\n",
        "print(array)"
      ],
      "execution_count": 34,
      "outputs": [
        {
          "output_type": "stream",
          "text": [
            "[[0 1 2]\n",
            " [3 4 5]\n",
            " [6 7 8]]\n",
            "[[ 0  1  2]\n",
            " [ 5 12 11]\n",
            " [ 3  4  5]\n",
            " [ 6  7  8]]\n",
            "[[ 0  1  1  2]\n",
            " [ 5 12  2 11]\n",
            " [ 3  4  3  5]\n",
            " [ 6  7  4  8]]\n"
          ],
          "name": "stdout"
        }
      ]
    },
    {
      "cell_type": "code",
      "metadata": {
        "colab": {
          "base_uri": "https://localhost:8080/"
        },
        "id": "YK1uLooFekKB",
        "outputId": "560e95dd-4545-4747-c299-870cf17e0dc4"
      },
      "source": [
        "x=np.arange(3)\n",
        "print(x)\n",
        "y=np.arange(9).reshape(3,3)\n",
        "print(y)\n",
        "z=np.vstack((x,y))\n",
        "print(z)\n",
        "y=y.reshape(9,)\n",
        "t=np.hstack((x,y))\n",
        "print(t)"
      ],
      "execution_count": 35,
      "outputs": [
        {
          "output_type": "stream",
          "text": [
            "[0 1 2]\n",
            "[[0 1 2]\n",
            " [3 4 5]\n",
            " [6 7 8]]\n",
            "[[0 1 2]\n",
            " [0 1 2]\n",
            " [3 4 5]\n",
            " [6 7 8]]\n",
            "[0 1 2 0 1 2 3 4 5 6 7 8]\n"
          ],
          "name": "stdout"
        }
      ]
    },
    {
      "cell_type": "code",
      "metadata": {
        "colab": {
          "base_uri": "https://localhost:8080/"
        },
        "id": "AnzD1o0DekKC",
        "outputId": "6d8834e8-1eea-4be5-9789-1a4197b427e1"
      },
      "source": [
        "#Sciling-copy()\n",
        "x=np.arange(10)\n",
        "print(x)\n",
        "print(x[2:6])\n",
        "print(x[2:])\n",
        "print(x[:6])\n",
        "print(x[0:])\n",
        "print(x[2:-3])"
      ],
      "execution_count": 36,
      "outputs": [
        {
          "output_type": "stream",
          "text": [
            "[0 1 2 3 4 5 6 7 8 9]\n",
            "[2 3 4 5]\n",
            "[2 3 4 5 6 7 8 9]\n",
            "[0 1 2 3 4 5]\n",
            "[0 1 2 3 4 5 6 7 8 9]\n",
            "[2 3 4 5 6]\n"
          ],
          "name": "stdout"
        }
      ]
    },
    {
      "cell_type": "code",
      "metadata": {
        "colab": {
          "base_uri": "https://localhost:8080/"
        },
        "id": "DUaF0b4dekKC",
        "outputId": "a0f4d798-9206-4ed5-f149-d7704e49a9ca"
      },
      "source": [
        "x=np.arange(25).reshape(5,5)\n",
        "print(x)\n",
        "y=x[0:3,1:4]\n",
        "print(y)\n",
        "z=x[2:]\n",
        "print(z)\n",
        "t=x[:,3:]\n",
        "print(t)"
      ],
      "execution_count": 37,
      "outputs": [
        {
          "output_type": "stream",
          "text": [
            "[[ 0  1  2  3  4]\n",
            " [ 5  6  7  8  9]\n",
            " [10 11 12 13 14]\n",
            " [15 16 17 18 19]\n",
            " [20 21 22 23 24]]\n",
            "[[ 1  2  3]\n",
            " [ 6  7  8]\n",
            " [11 12 13]]\n",
            "[[10 11 12 13 14]\n",
            " [15 16 17 18 19]\n",
            " [20 21 22 23 24]]\n",
            "[[ 3  4]\n",
            " [ 8  9]\n",
            " [13 14]\n",
            " [18 19]\n",
            " [23 24]]\n"
          ],
          "name": "stdout"
        }
      ]
    },
    {
      "cell_type": "code",
      "metadata": {
        "colab": {
          "base_uri": "https://localhost:8080/"
        },
        "id": "n03kEOJEekKC",
        "outputId": "9a924342-087d-4fa4-e5df-587f992e3540"
      },
      "source": [
        "array=np.arange(9).reshape(3,3)\n",
        "print(array)\n",
        "y=array[1:2,0:2]\n",
        "print(y)"
      ],
      "execution_count": 38,
      "outputs": [
        {
          "output_type": "stream",
          "text": [
            "[[0 1 2]\n",
            " [3 4 5]\n",
            " [6 7 8]]\n",
            "[[3 4]]\n"
          ],
          "name": "stdout"
        }
      ]
    },
    {
      "cell_type": "code",
      "metadata": {
        "colab": {
          "base_uri": "https://localhost:8080/"
        },
        "id": "TfyolqdQekKD",
        "outputId": "4f6f4fe9-3653-4d55-e02a-158ede466484"
      },
      "source": [
        "array=np.arange(16).reshape(4,4)\n",
        "print(array)\n",
        "y=np.copy(array[0:3,1:3])\n",
        "print(y)\n",
        "print(np.shares_memory(array,y))"
      ],
      "execution_count": 39,
      "outputs": [
        {
          "output_type": "stream",
          "text": [
            "[[ 0  1  2  3]\n",
            " [ 4  5  6  7]\n",
            " [ 8  9 10 11]\n",
            " [12 13 14 15]]\n",
            "[[ 1  2]\n",
            " [ 5  6]\n",
            " [ 9 10]]\n",
            "False\n"
          ],
          "name": "stdout"
        }
      ]
    },
    {
      "cell_type": "code",
      "metadata": {
        "id": "vWop1hZMekKD"
      },
      "source": [
        "#Fancy, Boolean Indexing\n"
      ],
      "execution_count": 40,
      "outputs": []
    },
    {
      "cell_type": "code",
      "metadata": {
        "colab": {
          "base_uri": "https://localhost:8080/"
        },
        "id": "ZLcWYtXtekKD",
        "outputId": "f79e3be8-1e9f-4115-f3ee-1d07a1c3d840"
      },
      "source": [
        "x=np.linspace(1,21,11)\n",
        "y=np.array([2,4,7])\n",
        "print(x)\n",
        "print(y)\n",
        "print(x[y])\n",
        "x=np.arange(25).reshape(5,5)\n",
        "print(x)\n",
        "y=np.array([1,2])\n",
        "print(y)\n",
        "print(x[y,:])\n",
        "print(x[:,y])"
      ],
      "execution_count": 41,
      "outputs": [
        {
          "output_type": "stream",
          "text": [
            "[ 1.  3.  5.  7.  9. 11. 13. 15. 17. 19. 21.]\n",
            "[2 4 7]\n",
            "[ 5.  9. 15.]\n",
            "[[ 0  1  2  3  4]\n",
            " [ 5  6  7  8  9]\n",
            " [10 11 12 13 14]\n",
            " [15 16 17 18 19]\n",
            " [20 21 22 23 24]]\n",
            "[1 2]\n",
            "[[ 5  6  7  8  9]\n",
            " [10 11 12 13 14]]\n",
            "[[ 1  2]\n",
            " [ 6  7]\n",
            " [11 12]\n",
            " [16 17]\n",
            " [21 22]]\n"
          ],
          "name": "stdout"
        }
      ]
    },
    {
      "cell_type": "code",
      "metadata": {
        "colab": {
          "base_uri": "https://localhost:8080/"
        },
        "id": "cOIZBAMzekKE",
        "outputId": "928a4645-e25c-4989-fa03-3b081fcde905"
      },
      "source": [
        "z=x[y,:]\n",
        "z[0,0]=100\n",
        "print(z)\n",
        "print(x)\n",
        "print(np.shares_memory(x,z))"
      ],
      "execution_count": 42,
      "outputs": [
        {
          "output_type": "stream",
          "text": [
            "[[100   6   7   8   9]\n",
            " [ 10  11  12  13  14]]\n",
            "[[ 0  1  2  3  4]\n",
            " [ 5  6  7  8  9]\n",
            " [10 11 12 13 14]\n",
            " [15 16 17 18 19]\n",
            " [20 21 22 23 24]]\n",
            "False\n"
          ],
          "name": "stdout"
        }
      ]
    },
    {
      "cell_type": "code",
      "metadata": {
        "id": "0GMRLkLVekKE"
      },
      "source": [
        ""
      ],
      "execution_count": 42,
      "outputs": []
    }
  ]
}