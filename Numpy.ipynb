{
  "nbformat": 4,
  "nbformat_minor": 0,
  "metadata": {
    "kernelspec": {
      "display_name": "Python 3",
      "language": "python",
      "name": "python3"
    },
    "language_info": {
      "codemirror_mode": {
        "name": "ipython",
        "version": 3
      },
      "file_extension": ".py",
      "mimetype": "text/x-python",
      "name": "python",
      "nbconvert_exporter": "python",
      "pygments_lexer": "ipython3",
      "version": "3.7.4"
    },
    "colab": {
      "name": "Numpy.ipynb",
      "provenance": [],
      "include_colab_link": true
    }
  },
  "cells": [
    {
      "cell_type": "markdown",
      "metadata": {
        "id": "view-in-github",
        "colab_type": "text"
      },
      "source": [
        "<a href=\"https://colab.research.google.com/github/mkaraca25/Python_Numpy_Pandas_Matplotlib_Seaborn/blob/main/Numpy.ipynb\" target=\"_parent\"><img src=\"https://colab.research.google.com/assets/colab-badge.svg\" alt=\"Open In Colab\"/></a>"
      ]
    },
    {
      "cell_type": "markdown",
      "metadata": {
        "id": "lRD8TnZRekJM"
      },
      "source": [
        "## NUMPY"
      ]
    },
    {
      "cell_type": "code",
      "metadata": {
        "id": "RRVVMbSDekJU",
        "outputId": "98f294df-1482-46ab-ed72-95556547941b"
      },
      "source": [
        "##Neden NUMPY bilimsel hesaplamalarda kullanilir.\n",
        "import numpy as np\n",
        "import time\n",
        "start_time=time.time() \n",
        "A=np.arange(1000000)\n",
        "A**2\n",
        "Time_1=time.time()-start_time\n",
        "start_time_2=time.time()\n",
        "L=range(1000000)\n",
        "[i**2 for i in L]\n",
        "Time_2=time.time()-start_time_2\n",
        "print(Time_2/Time_1)\n",
        "##numpy yaklaşık 60 kat daha hizlidir."
      ],
      "execution_count": null,
      "outputs": [
        {
          "output_type": "stream",
          "text": [
            "103.7444955044955\n"
          ],
          "name": "stdout"
        }
      ]
    },
    {
      "cell_type": "code",
      "metadata": {
        "id": "ZRKSOUrmekJZ",
        "outputId": "4da05ac3-eb16-462a-dbe1-4282d0cfdb66"
      },
      "source": [
        "x=np.array([4,5,6,7])\n",
        "print(x)\n",
        "print(type(x))\n",
        "print(x.shape)\n",
        "print(x.size)\n",
        "print(x.ndim)\n",
        "print(x.nbytes)\n",
        "print(x.dtype)"
      ],
      "execution_count": null,
      "outputs": [
        {
          "output_type": "stream",
          "text": [
            "[4 5 6 7]\n",
            "<class 'numpy.ndarray'>\n",
            "(4,)\n",
            "4\n",
            "1\n",
            "16\n",
            "int32\n"
          ],
          "name": "stdout"
        }
      ]
    },
    {
      "cell_type": "code",
      "metadata": {
        "id": "pHGRcZedekJc",
        "outputId": "7f12a3af-5b51-4255-cffc-9eecf411e748"
      },
      "source": [
        "y=np.array([[1,2,3],[4,5,6]])\n",
        "print(y)\n",
        "print(type(y))\n",
        "print(y.shape)#tuple\n",
        "print(y.size)\n",
        "print(y.ndim)\n",
        "print(y.nbytes)\n",
        "print(y.dtype)"
      ],
      "execution_count": null,
      "outputs": [
        {
          "output_type": "stream",
          "text": [
            "[[1 2 3]\n",
            " [4 5 6]]\n",
            "<class 'numpy.ndarray'>\n",
            "(2, 3)\n",
            "6\n",
            "2\n",
            "24\n",
            "int32\n"
          ],
          "name": "stdout"
        }
      ]
    },
    {
      "cell_type": "code",
      "metadata": {
        "id": "nthbT4LJekJe",
        "outputId": "dcf75064-2023-4997-eeb1-1eb8815dd9dc"
      },
      "source": [
        "z=np.array([[[1,2,3],[4,5,6]],[[7,8,9],[9,8,7]]])\n",
        "print(z)\n",
        "print(type(z))\n",
        "print(z.shape)\n",
        "print(z.size)\n",
        "print(z.ndim)\n",
        "print(z.nbytes)\n",
        "print(z.dtype)"
      ],
      "execution_count": null,
      "outputs": [
        {
          "output_type": "stream",
          "text": [
            "[[[1 2 3]\n",
            "  [4 5 6]]\n",
            "\n",
            " [[7 8 9]\n",
            "  [9 8 7]]]\n",
            "<class 'numpy.ndarray'>\n",
            "(2, 2, 3)\n",
            "12\n",
            "3\n",
            "48\n",
            "int32\n"
          ],
          "name": "stdout"
        }
      ]
    },
    {
      "cell_type": "code",
      "metadata": {
        "id": "X8y6xn9uekJf",
        "outputId": "7e9f839f-07b8-4edf-ebdd-e9acb87f36cb"
      },
      "source": [
        "m=np.array([1,2.0,3])\n",
        "print(m.dtype)"
      ],
      "execution_count": null,
      "outputs": [
        {
          "output_type": "stream",
          "text": [
            "float64\n"
          ],
          "name": "stdout"
        }
      ]
    },
    {
      "cell_type": "code",
      "metadata": {
        "id": "PVCU9piLekJh",
        "outputId": "51e94ec5-f729-4736-e65c-1075a3d3af83"
      },
      "source": [
        "k=np.array([1,2,\"3\"])\n",
        "print(k.dtype)"
      ],
      "execution_count": null,
      "outputs": [
        {
          "output_type": "stream",
          "text": [
            "<U11\n"
          ],
          "name": "stdout"
        }
      ]
    },
    {
      "cell_type": "code",
      "metadata": {
        "id": "I5m8pGJRekJl",
        "outputId": "70187bda-676d-403e-b8af-2c1153815e20"
      },
      "source": [
        "array=np.array([1,2,3],dtype=np.complex)\n",
        "print(array)\n",
        "print(array.dtype)"
      ],
      "execution_count": null,
      "outputs": [
        {
          "output_type": "stream",
          "text": [
            "[1.+0.j 2.+0.j 3.+0.j]\n",
            "complex128\n"
          ],
          "name": "stdout"
        }
      ]
    },
    {
      "cell_type": "code",
      "metadata": {
        "id": "GCo9rsTRekJp",
        "outputId": "a08ca09a-333a-49ad-cb0f-bcb232569f24"
      },
      "source": [
        "x=np.array([1,2,3,4],dtype=np.float)\n",
        "y=np.array(x,dtype=complex)\n",
        "print(x,\"==>\",y)"
      ],
      "execution_count": null,
      "outputs": [
        {
          "output_type": "stream",
          "text": [
            "[1. 2. 3. 4.] ==> [1.+0.j 2.+0.j 3.+0.j 4.+0.j]\n"
          ],
          "name": "stdout"
        }
      ]
    },
    {
      "cell_type": "code",
      "metadata": {
        "id": "VfgnQKIoekJu",
        "outputId": "9def44eb-f60d-4f4f-9d12-d53637c79d74"
      },
      "source": [
        "x1=np.array([1,2,3],dtype=np.int)\n",
        "x2=np.array([1.5,2.7,3.4],dtype=np.float)\n",
        "print(x1+x2)"
      ],
      "execution_count": null,
      "outputs": [
        {
          "output_type": "stream",
          "text": [
            "[2.5 4.7 6.4]\n"
          ],
          "name": "stdout"
        }
      ]
    },
    {
      "cell_type": "code",
      "metadata": {
        "id": "PAcc6abAekJx"
      },
      "source": [
        "x=np.array([[5,6,9,3.2,15],[1,2,3,4,5]])\n",
        "np.save(\"ndarray_1\",x)#kaydetme"
      ],
      "execution_count": null,
      "outputs": []
    },
    {
      "cell_type": "code",
      "metadata": {
        "id": "DjXCx9SwekJy",
        "outputId": "5ec28620-45d8-4bea-ff47-7c2053c17dc5"
      },
      "source": [
        "y=np.load(\"ndarray_1.npy\")#kaydedileni kullanma\n",
        "print(y,np.dtype,y.shape)"
      ],
      "execution_count": null,
      "outputs": [
        {
          "output_type": "stream",
          "text": [
            "[[ 5.   6.   9.   3.2 15. ]\n",
            " [ 1.   2.   3.   4.   5. ]] <class 'numpy.dtype'> (2, 5)\n"
          ],
          "name": "stdout"
        }
      ]
    },
    {
      "cell_type": "code",
      "metadata": {
        "id": "OQUwm66cekJz",
        "outputId": "dd95f1aa-ea4b-4ece-9ab9-fdcacd77a44b"
      },
      "source": [
        "x=np.zeros((2,3,4),dtype=np.int)\n",
        "print(x)"
      ],
      "execution_count": null,
      "outputs": [
        {
          "output_type": "stream",
          "text": [
            "[[[0 0 0 0]\n",
            "  [0 0 0 0]\n",
            "  [0 0 0 0]]\n",
            "\n",
            " [[0 0 0 0]\n",
            "  [0 0 0 0]\n",
            "  [0 0 0 0]]]\n"
          ],
          "name": "stdout"
        }
      ]
    },
    {
      "cell_type": "code",
      "metadata": {
        "id": "6Tn5BRzfekJ0",
        "outputId": "93211522-39ad-43ce-856f-620205568419"
      },
      "source": [
        "x=np.ones((2,3,4),dtype=np.int)\n",
        "print(x)"
      ],
      "execution_count": null,
      "outputs": [
        {
          "output_type": "stream",
          "text": [
            "[[[1 1 1 1]\n",
            "  [1 1 1 1]\n",
            "  [1 1 1 1]]\n",
            "\n",
            " [[1 1 1 1]\n",
            "  [1 1 1 1]\n",
            "  [1 1 1 1]]]\n"
          ],
          "name": "stdout"
        }
      ]
    },
    {
      "cell_type": "code",
      "metadata": {
        "id": "al0YhATqekJ1",
        "outputId": "90b7000f-aac9-44d0-eafc-f9278b0daff0"
      },
      "source": [
        "#np.full \n",
        "x=np.full((2,3),5)\n",
        "print(x)\n",
        "y=10.0*x\n",
        "print(y)"
      ],
      "execution_count": null,
      "outputs": [
        {
          "output_type": "stream",
          "text": [
            "[[5 5 5]\n",
            " [5 5 5]]\n",
            "[[50. 50. 50.]\n",
            " [50. 50. 50.]]\n"
          ],
          "name": "stdout"
        }
      ]
    },
    {
      "cell_type": "code",
      "metadata": {
        "id": "MEQUin-UekJ2",
        "outputId": "26a0c458-2be7-4783-8b80-6a2be3f5410e"
      },
      "source": [
        "#np.empty() np.fill()\n",
        "x=np.empty((2,2))\n",
        "print(x)\n",
        "x.fill(4)\n",
        "print(x)"
      ],
      "execution_count": null,
      "outputs": [
        {
          "output_type": "stream",
          "text": [
            "[[1. 2.]\n",
            " [3. 4.]]\n",
            "[[4. 4.]\n",
            " [4. 4.]]\n"
          ],
          "name": "stdout"
        }
      ]
    },
    {
      "cell_type": "code",
      "metadata": {
        "id": "LPS1LcBPekJ3",
        "outputId": "ca8f52f1-6b0d-4188-949a-b89bacb5c5a6"
      },
      "source": [
        "x=np.eye(5,4)#birim\n",
        "print(x)"
      ],
      "execution_count": null,
      "outputs": [
        {
          "output_type": "stream",
          "text": [
            "[[1. 0. 0. 0.]\n",
            " [0. 1. 0. 0.]\n",
            " [0. 0. 1. 0.]\n",
            " [0. 0. 0. 1.]\n",
            " [0. 0. 0. 0.]]\n"
          ],
          "name": "stdout"
        }
      ]
    },
    {
      "cell_type": "code",
      "metadata": {
        "id": "UtxofWuuekJ3",
        "outputId": "f7db86c8-b161-4c29-b252-38875f3bb406"
      },
      "source": [
        "x=np.eye(5,4,k=1)#birim\n",
        "print(x)"
      ],
      "execution_count": null,
      "outputs": [
        {
          "output_type": "stream",
          "text": [
            "[[0. 1. 0. 0.]\n",
            " [0. 0. 1. 0.]\n",
            " [0. 0. 0. 1.]\n",
            " [0. 0. 0. 0.]\n",
            " [0. 0. 0. 0.]]\n"
          ],
          "name": "stdout"
        }
      ]
    },
    {
      "cell_type": "code",
      "metadata": {
        "id": "DSmF5a2dekJ4",
        "outputId": "8fb50ae5-96cc-48a6-e09f-e3a83e5ca0e3"
      },
      "source": [
        "x=np.diag([5,3,2,1])#birim\n",
        "print(x)\n",
        "print(np.diag(x))"
      ],
      "execution_count": null,
      "outputs": [
        {
          "output_type": "stream",
          "text": [
            "[[5 0 0 0]\n",
            " [0 3 0 0]\n",
            " [0 0 2 0]\n",
            " [0 0 0 1]]\n",
            "[5 3 2 1]\n"
          ],
          "name": "stdout"
        }
      ]
    },
    {
      "cell_type": "code",
      "metadata": {
        "id": "-5TdgpE3ekJ5",
        "outputId": "4b3ec10d-3b8d-4ef4-f8e0-6423b91b4981"
      },
      "source": [
        "x=np.arange(1,10,2)\n",
        "print(x)"
      ],
      "execution_count": null,
      "outputs": [
        {
          "output_type": "stream",
          "text": [
            "[1 3 5 7 9]\n"
          ],
          "name": "stdout"
        }
      ]
    },
    {
      "cell_type": "code",
      "metadata": {
        "id": "Gz08TZl1ekJ6",
        "outputId": "ed274b4e-f467-4587-8e0a-abb620ad8ef6"
      },
      "source": [
        "#np.linspace\n",
        "x=np.linspace(0,15,10)\n",
        "print(x)"
      ],
      "execution_count": null,
      "outputs": [
        {
          "output_type": "stream",
          "text": [
            "[ 0.          1.66666667  3.33333333  5.          6.66666667  8.33333333\n",
            " 10.         11.66666667 13.33333333 15.        ]\n"
          ],
          "name": "stdout"
        }
      ]
    },
    {
      "cell_type": "code",
      "metadata": {
        "id": "syQpxOW0ekJ7",
        "outputId": "2d9956f9-ef2d-4eb9-8385-1fe541520352"
      },
      "source": [
        "x=np.arange(32)\n",
        "y=np.reshape(x,(2,4,4))\n",
        "print(y)"
      ],
      "execution_count": null,
      "outputs": [
        {
          "output_type": "stream",
          "text": [
            "[[[ 0  1  2  3]\n",
            "  [ 4  5  6  7]\n",
            "  [ 8  9 10 11]\n",
            "  [12 13 14 15]]\n",
            "\n",
            " [[16 17 18 19]\n",
            "  [20 21 22 23]\n",
            "  [24 25 26 27]\n",
            "  [28 29 30 31]]]\n"
          ],
          "name": "stdout"
        }
      ]
    },
    {
      "cell_type": "code",
      "metadata": {
        "id": "yIPXOuVqekJ7",
        "outputId": "8c923e14-a9a1-4a36-cf2f-c36442a5c991"
      },
      "source": [
        "x=np.linspace(0,19,20)\n",
        "print(x)\n",
        "y=np.reshape(x,(2,10))\n",
        "print(y)"
      ],
      "execution_count": null,
      "outputs": [
        {
          "output_type": "stream",
          "text": [
            "[ 0.  1.  2.  3.  4.  5.  6.  7.  8.  9. 10. 11. 12. 13. 14. 15. 16. 17.\n",
            " 18. 19.]\n",
            "[[ 0.  1.  2.  3.  4.  5.  6.  7.  8.  9.]\n",
            " [10. 11. 12. 13. 14. 15. 16. 17. 18. 19.]]\n"
          ],
          "name": "stdout"
        }
      ]
    },
    {
      "cell_type": "code",
      "metadata": {
        "id": "eIou19cHekJ8",
        "outputId": "346c5452-6518-4663-aeba-66a95479b86b"
      },
      "source": [
        "z=np.linspace(0,19,20).reshape(2,10)\n",
        "print(z)"
      ],
      "execution_count": null,
      "outputs": [
        {
          "output_type": "stream",
          "text": [
            "[[ 0.  1.  2.  3.  4.  5.  6.  7.  8.  9.]\n",
            " [10. 11. 12. 13. 14. 15. 16. 17. 18. 19.]]\n"
          ],
          "name": "stdout"
        }
      ]
    },
    {
      "cell_type": "code",
      "metadata": {
        "id": "EE1ux0WpekJ9",
        "outputId": "c41d4fc3-7b68-4904-8ed5-d9fb6da1f748"
      },
      "source": [
        "x=np.random.random((2,3))\n",
        "print(x)"
      ],
      "execution_count": null,
      "outputs": [
        {
          "output_type": "stream",
          "text": [
            "[[0.23851938 0.03467846 0.69390691]\n",
            " [0.78595088 0.13094022 0.57329051]]\n"
          ],
          "name": "stdout"
        }
      ]
    },
    {
      "cell_type": "code",
      "metadata": {
        "id": "T-fZg6mQekJ9",
        "outputId": "672fbb1c-ea6c-460a-8f65-6a508f091184"
      },
      "source": [
        "x=np.random.randint(0,10,size=(2,3))\n",
        "print(x)"
      ],
      "execution_count": null,
      "outputs": [
        {
          "output_type": "stream",
          "text": [
            "[[3 9 6]\n",
            " [5 0 3]]\n"
          ],
          "name": "stdout"
        }
      ]
    },
    {
      "cell_type": "markdown",
      "metadata": {
        "id": "slCNcZvCekJ-"
      },
      "source": [
        "## NDArray degistirme ,Insert,Append, Stack and Delete"
      ]
    },
    {
      "cell_type": "code",
      "metadata": {
        "id": "otmm47C8ekJ_",
        "outputId": "049c1acd-110f-4f16-e59a-dfc098cf0d1b"
      },
      "source": [
        "x=np.arange(0,11,2)\n",
        "print(x[3])\n",
        "x=np.arange(0,11,2)\n",
        "print(x[-1])"
      ],
      "execution_count": null,
      "outputs": [
        {
          "output_type": "stream",
          "text": [
            "6\n",
            "10\n"
          ],
          "name": "stdout"
        }
      ]
    },
    {
      "cell_type": "code",
      "metadata": {
        "id": "9vvgrxp9ekJ_",
        "outputId": "5a7fb06d-4729-4ff0-8c1f-12d91420f60a"
      },
      "source": [
        "x=np.arange(12).reshape(3,4)\n",
        "print(x)\n",
        "print(x[2,3])"
      ],
      "execution_count": null,
      "outputs": [
        {
          "output_type": "stream",
          "text": [
            "[[ 0  1  2  3]\n",
            " [ 4  5  6  7]\n",
            " [ 8  9 10 11]]\n",
            "11\n"
          ],
          "name": "stdout"
        }
      ]
    },
    {
      "cell_type": "code",
      "metadata": {
        "id": "9c29QrMZekKA",
        "outputId": "bb240702-c0c2-47c7-ed27-22c900688587"
      },
      "source": [
        "x=np.arange(10)\n",
        "print(x)\n",
        "x=np.delete(x,[0,1])\n",
        "print(x)"
      ],
      "execution_count": null,
      "outputs": [
        {
          "output_type": "stream",
          "text": [
            "[0 1 2 3 4 5 6 7 8 9]\n",
            "[2 3 4 5 6 7 8 9]\n"
          ],
          "name": "stdout"
        }
      ]
    },
    {
      "cell_type": "code",
      "metadata": {
        "id": "vKID61ndekKA",
        "outputId": "f501f44e-b00c-451d-8f40-38b4fc1faaf2"
      },
      "source": [
        "x=np.arange(16).reshape(4,4)\n",
        "print(x)\n",
        "x=np.delete(x, 2,axis=0)\n",
        "print(x)\n",
        "x=np.delete(x, 2,axis=1)\n",
        "print(x)\n",
        "x=np.delete(x, [0,2],axis=1)\n",
        "print(x)"
      ],
      "execution_count": null,
      "outputs": [
        {
          "output_type": "stream",
          "text": [
            "[[ 0  1  2  3]\n",
            " [ 4  5  6  7]\n",
            " [ 8  9 10 11]\n",
            " [12 13 14 15]]\n",
            "[[ 0  1  2  3]\n",
            " [ 4  5  6  7]\n",
            " [12 13 14 15]]\n",
            "[[ 0  1  3]\n",
            " [ 4  5  7]\n",
            " [12 13 15]]\n",
            "[[ 1]\n",
            " [ 5]\n",
            " [13]]\n"
          ],
          "name": "stdout"
        }
      ]
    },
    {
      "cell_type": "code",
      "metadata": {
        "id": "ovP3osOsekKA",
        "outputId": "bdd203f6-4ef4-486f-bd34-b69aebae1950"
      },
      "source": [
        "x=np.arange(16).reshape(4,4)\n",
        "print(x)\n",
        "x=np.append(x,[[1,2,3,4]],axis=0)#satıra ekleme\n",
        "print(x)\n",
        "x=np.append(x,[[1],[2],[3],[4],[5]],axis=1)#sutuna ekleme\n",
        "print(x)"
      ],
      "execution_count": null,
      "outputs": [
        {
          "output_type": "stream",
          "text": [
            "[[ 0  1  2  3]\n",
            " [ 4  5  6  7]\n",
            " [ 8  9 10 11]\n",
            " [12 13 14 15]]\n",
            "[[ 0  1  2  3]\n",
            " [ 4  5  6  7]\n",
            " [ 8  9 10 11]\n",
            " [12 13 14 15]\n",
            " [ 1  2  3  4]]\n",
            "[[ 0  1  2  3  1]\n",
            " [ 4  5  6  7  2]\n",
            " [ 8  9 10 11  3]\n",
            " [12 13 14 15  4]\n",
            " [ 1  2  3  4  5]]\n"
          ],
          "name": "stdout"
        }
      ]
    },
    {
      "cell_type": "code",
      "metadata": {
        "id": "u2s359VUekKB",
        "outputId": "8ed29e91-80fc-4182-b1e3-d14503eac27c"
      },
      "source": [
        "#np.insert\n",
        "array=np.arange(10)\n",
        "print(array)\n",
        "array=np.insert(array,5,12)\n",
        "print(array)\n",
        "array=np.insert(array,6,[13,14,15])\n",
        "print(array)"
      ],
      "execution_count": null,
      "outputs": [
        {
          "output_type": "stream",
          "text": [
            "[0 1 2 3 4 5 6 7 8 9]\n",
            "[ 0  1  2  3  4 12  5  6  7  8  9]\n",
            "[ 0  1  2  3  4 12 13 14 15  5  6  7  8  9]\n"
          ],
          "name": "stdout"
        }
      ]
    },
    {
      "cell_type": "code",
      "metadata": {
        "id": "fL6nyO5aekKB",
        "outputId": "ace27b0e-13d2-419b-99aa-d18269304c95"
      },
      "source": [
        "array=np.arange(9).reshape(3,3)\n",
        "print(array)\n",
        "array=np.insert(array,1,[5,12,11],axis=0)\n",
        "print(array)\n",
        "array=np.insert(array,2,[1,2,3,4],axis=1)\n",
        "print(array)"
      ],
      "execution_count": null,
      "outputs": [
        {
          "output_type": "stream",
          "text": [
            "[[0 1 2]\n",
            " [3 4 5]\n",
            " [6 7 8]]\n",
            "[[ 0  1  2]\n",
            " [ 5 12 11]\n",
            " [ 3  4  5]\n",
            " [ 6  7  8]]\n",
            "[[ 0  1  1  2]\n",
            " [ 5 12  2 11]\n",
            " [ 3  4  3  5]\n",
            " [ 6  7  4  8]]\n"
          ],
          "name": "stdout"
        }
      ]
    },
    {
      "cell_type": "code",
      "metadata": {
        "id": "YK1uLooFekKB",
        "outputId": "52ee81ab-7051-419e-9bf4-913481810272"
      },
      "source": [
        "x=np.arange(3)\n",
        "print(x)\n",
        "y=np.arange(9).reshape(3,3)\n",
        "print(y)\n",
        "z=np.vstack((x,y))\n",
        "print(z)\n",
        "y=y.reshape(9,)\n",
        "t=np.hstack((x,y))\n",
        "print(t)"
      ],
      "execution_count": null,
      "outputs": [
        {
          "output_type": "stream",
          "text": [
            "[0 1 2]\n",
            "[[0 1 2]\n",
            " [3 4 5]\n",
            " [6 7 8]]\n",
            "[[0 1 2]\n",
            " [0 1 2]\n",
            " [3 4 5]\n",
            " [6 7 8]]\n",
            "[0 1 2 0 1 2 3 4 5 6 7 8]\n"
          ],
          "name": "stdout"
        }
      ]
    },
    {
      "cell_type": "code",
      "metadata": {
        "id": "AnzD1o0DekKC",
        "outputId": "6c664230-df66-4400-bf7a-33fa49dfeda3"
      },
      "source": [
        "#Sciling-copy()\n",
        "x=np.arange(10)\n",
        "print(x)\n",
        "print(x[2:6])\n",
        "print(x[2:])\n",
        "print(x[:6])\n",
        "print(x[0:])\n",
        "print(x[2:-3])"
      ],
      "execution_count": null,
      "outputs": [
        {
          "output_type": "stream",
          "text": [
            "[0 1 2 3 4 5 6 7 8 9]\n",
            "[2 3 4 5]\n",
            "[2 3 4 5 6 7 8 9]\n",
            "[0 1 2 3 4 5]\n",
            "[0 1 2 3 4 5 6 7 8 9]\n",
            "[2 3 4 5 6]\n"
          ],
          "name": "stdout"
        }
      ]
    },
    {
      "cell_type": "code",
      "metadata": {
        "id": "DUaF0b4dekKC",
        "outputId": "347f4402-8813-4206-e48f-56c69f879cb2"
      },
      "source": [
        "x=np.arange(25).reshape(5,5)\n",
        "print(x)\n",
        "y=x[0:3,1:4]\n",
        "print(y)\n",
        "z=x[2:]\n",
        "print(z)\n",
        "t=x[:,3:]\n",
        "print(t)"
      ],
      "execution_count": null,
      "outputs": [
        {
          "output_type": "stream",
          "text": [
            "[[ 0  1  2  3  4]\n",
            " [ 5  6  7  8  9]\n",
            " [10 11 12 13 14]\n",
            " [15 16 17 18 19]\n",
            " [20 21 22 23 24]]\n",
            "[[ 1  2  3]\n",
            " [ 6  7  8]\n",
            " [11 12 13]]\n",
            "[[10 11 12 13 14]\n",
            " [15 16 17 18 19]\n",
            " [20 21 22 23 24]]\n",
            "[[ 3  4]\n",
            " [ 8  9]\n",
            " [13 14]\n",
            " [18 19]\n",
            " [23 24]]\n"
          ],
          "name": "stdout"
        }
      ]
    },
    {
      "cell_type": "code",
      "metadata": {
        "id": "n03kEOJEekKC",
        "outputId": "dbc4da16-61cc-4730-e46d-383bbe0d7e13"
      },
      "source": [
        "array=np.arange(9).reshape(3,3)\n",
        "print(array)\n",
        "y=array[1:2,0:2]\n",
        "print(y)"
      ],
      "execution_count": null,
      "outputs": [
        {
          "output_type": "stream",
          "text": [
            "[[0 1 2]\n",
            " [3 4 5]\n",
            " [6 7 8]]\n",
            "[[3 4]]\n"
          ],
          "name": "stdout"
        }
      ]
    },
    {
      "cell_type": "code",
      "metadata": {
        "id": "TfyolqdQekKD",
        "outputId": "075c7b1b-f7a9-40a9-f79c-643bdd93eded"
      },
      "source": [
        "array=np.arange(16).reshape(4,4)\n",
        "print(array)\n",
        "y=np.copy(array[0:3,1:3])\n",
        "print(y)\n",
        "print(np.shares_memory(array,y))"
      ],
      "execution_count": null,
      "outputs": [
        {
          "output_type": "stream",
          "text": [
            "[[ 0  1  2  3]\n",
            " [ 4  5  6  7]\n",
            " [ 8  9 10 11]\n",
            " [12 13 14 15]]\n",
            "[[ 1  2]\n",
            " [ 5  6]\n",
            " [ 9 10]]\n",
            "False\n"
          ],
          "name": "stdout"
        }
      ]
    },
    {
      "cell_type": "code",
      "metadata": {
        "id": "vWop1hZMekKD"
      },
      "source": [
        "#Fancy, Boolean Indexing\n"
      ],
      "execution_count": null,
      "outputs": []
    },
    {
      "cell_type": "code",
      "metadata": {
        "id": "ZLcWYtXtekKD",
        "outputId": "ce4dc7f9-4e2b-4ab4-bd6f-aad9a47d57cd"
      },
      "source": [
        "x=np.linspace(1,21,11)\n",
        "y=np.array([2,4,7])\n",
        "print(x)\n",
        "print(y)\n",
        "print(x[y])\n",
        "x=np.arange(25).reshape(5,5)\n",
        "print(x)\n",
        "y=np.array([1,2])\n",
        "print(y)\n",
        "print(x[y,:])\n",
        "print(x[:,y])"
      ],
      "execution_count": null,
      "outputs": [
        {
          "output_type": "stream",
          "text": [
            "[ 1.  3.  5.  7.  9. 11. 13. 15. 17. 19. 21.]\n",
            "[2 4 7]\n",
            "[ 5.  9. 15.]\n",
            "[[ 0  1  2  3  4]\n",
            " [ 5  6  7  8  9]\n",
            " [10 11 12 13 14]\n",
            " [15 16 17 18 19]\n",
            " [20 21 22 23 24]]\n",
            "[1 2]\n",
            "[[ 5  6  7  8  9]\n",
            " [10 11 12 13 14]]\n",
            "[[ 1  2]\n",
            " [ 6  7]\n",
            " [11 12]\n",
            " [16 17]\n",
            " [21 22]]\n"
          ],
          "name": "stdout"
        }
      ]
    },
    {
      "cell_type": "code",
      "metadata": {
        "id": "cOIZBAMzekKE",
        "outputId": "6bc9388c-f5e6-4ed0-896d-5abbf2f0fd77"
      },
      "source": [
        "z=x[y,:]\n",
        "z[0,0]=100\n",
        "print(z)\n",
        "print(x)\n",
        "print(np.shares_memory(x,z))"
      ],
      "execution_count": null,
      "outputs": [
        {
          "output_type": "stream",
          "text": [
            "[[100   6   7   8   9]\n",
            " [ 10  11  12  13  14]]\n",
            "[[ 0  1  2  3  4]\n",
            " [ 5  6  7  8  9]\n",
            " [10 11 12 13 14]\n",
            " [15 16 17 18 19]\n",
            " [20 21 22 23 24]]\n",
            "False\n"
          ],
          "name": "stdout"
        }
      ]
    },
    {
      "cell_type": "code",
      "metadata": {
        "id": "WTnfYXd3ekKE"
      },
      "source": [
        ""
      ],
      "execution_count": null,
      "outputs": []
    },
    {
      "cell_type": "code",
      "metadata": {
        "id": "05lanKB-ekKE"
      },
      "source": [
        ""
      ],
      "execution_count": null,
      "outputs": []
    },
    {
      "cell_type": "code",
      "metadata": {
        "id": "ql4ryRYJekKE"
      },
      "source": [
        ""
      ],
      "execution_count": null,
      "outputs": []
    },
    {
      "cell_type": "code",
      "metadata": {
        "id": "_v80S2RPekKE"
      },
      "source": [
        ""
      ],
      "execution_count": null,
      "outputs": []
    },
    {
      "cell_type": "code",
      "metadata": {
        "id": "CId0Z135ekKE"
      },
      "source": [
        ""
      ],
      "execution_count": null,
      "outputs": []
    },
    {
      "cell_type": "code",
      "metadata": {
        "id": "0GMRLkLVekKE"
      },
      "source": [
        ""
      ],
      "execution_count": null,
      "outputs": []
    }
  ]
}